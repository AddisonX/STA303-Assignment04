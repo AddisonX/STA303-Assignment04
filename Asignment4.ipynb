{
 "cells": [
  {
   "cell_type": "markdown",
   "id": "abc0ece2",
   "metadata": {},
   "source": [
    "pip install torchcp"
   ]
  },
  {
   "cell_type": "code",
   "execution_count": null,
   "id": "175fe163",
   "metadata": {},
   "outputs": [],
   "source": []
  },
  {
   "cell_type": "code",
   "execution_count": 49,
   "id": "342dbaed",
   "metadata": {},
   "outputs": [
    {
     "name": "stdout",
     "output_type": "stream",
     "text": [
      "Looking in indexes: https://test.pypi.org/simple/, https://pypi.ngc.nvidia.com\n",
      "Requirement already satisfied: torchcp in /usr/local/lib/python3.10/dist-packages (0.1.2)\n",
      "\u001b[33mWARNING: Running pip as the 'root' user can result in broken permissions and conflicting behaviour with the system package manager. It is recommended to use a virtual environment instead: https://pip.pypa.io/warnings/venv\u001b[0m\u001b[33m\n",
      "\u001b[0mNote: you may need to restart the kernel to use updated packages.\n"
     ]
    }
   ],
   "source": [
    "pip install --index-url https://test.pypi.org/simple/ --no-deps torchcp"
   ]
  },
  {
   "cell_type": "code",
   "execution_count": 1,
   "id": "ecb054aa",
   "metadata": {},
   "outputs": [],
   "source": [
    "from torchcp.classification.scores import THR, APS, SAPS, RAPS\n",
    "from torchcp.classification.predictors import SplitPredictor, ClusterPredictor, ClassWisePredictor\n",
    "import os\n",
    "import time\n",
    "import os.path as osp\n",
    "\n",
    "import numpy as np\n",
    "import pandas as pd\n",
    "\n",
    "import torch\n",
    "import torch.nn as nn\n",
    "import torch.nn.functional as F\n",
    "import torch.optim as optim\n",
    "from torch.utils.data import DataLoader\n",
    "\n",
    "from torchvision.datasets import CIFAR10\n",
    "from torchvision import datasets\n",
    "from torchvision import transforms\n",
    "import torchvision"
   ]
  },
  {
   "cell_type": "code",
   "execution_count": 2,
   "id": "18b63d00",
   "metadata": {},
   "outputs": [],
   "source": [
    "batch_size = 32\n",
    "device = torch.device(\"cuda:0\" if torch.cuda.is_available() else \"cpu\")"
   ]
  },
  {
   "cell_type": "code",
   "execution_count": 11,
   "id": "d6806707",
   "metadata": {},
   "outputs": [
    {
     "name": "stdout",
     "output_type": "stream",
     "text": [
      "Files already downloaded and verified\n",
      "Files already downloaded and verified\n"
     ]
    }
   ],
   "source": [
    "#These are for 2.2, 2.3\n",
    "\n",
    "# transform_test = transforms.Compose([\n",
    "#     transforms.Resize(size=224),\n",
    "#     transforms.CenterCrop(size=(224, 224)),\n",
    "#     transforms.ToTensor(),\n",
    "#     transforms.Normalize((0.4914, 0.4822, 0.4465), (0.2023, 0.1994, 0.2010)),\n",
    "# ])\n",
    "\n",
    "# #data = torchvision.datasets.DTD(root='/shareddata', split='test', download=True, transform=transform_test)\n",
    "\n",
    "# #data = torchvision.datasets.OxfordIIITPet(root='/shareddata', split='test',download=True, transform=transform_test)\n",
    "\n",
    "# #data = torchvision.datasets.CIFAR100(root='/shareddata', train=False,download=True, transform=transform_test)\n",
    "\n",
    "# #data= torchvision.datasets.Food101(root='/shareddata', split='test',download=True, transform=transform_test)\n",
    "\n",
    "# train_data=torchvision.datasets.CIFAR10(root='/shareddata', train=True,download=True, transform=transform_test)\n",
    "# test_data=torchvision.datasets.CIFAR10(root='/shareddata', train=False,download=True, transform=transform_test)\n",
    "# train_dataloader = DataLoader(train_data, batch_size=batch_size, shuffle=True)\n",
    "# test_dataloader = DataLoader(test_data, batch_size=batch_size, shuffle=False)\n",
    "\n",
    "# num_train = int(len(test_data) * 0.5)\n",
    "# num_test = len(test_data) - num_train\n",
    "\n",
    "# cal_dataset, test_dataset = torch.utils.data.random_split(test_data, [num_train, num_test])\n",
    "\n",
    "\n",
    "# cal_dataloader= torch.utils.data.DataLoader(cal_dataset, batch_size=batch_size,\n",
    "#                                          shuffle=False, num_workers=1)\n",
    "\n",
    "# model=torchvision.models.alexnet(pretrained=True)"
   ]
  },
  {
   "cell_type": "code",
   "execution_count": 3,
   "id": "7ecd33e4",
   "metadata": {},
   "outputs": [],
   "source": [
    "class SimpleCNN(torch.nn.Module):\n",
    "    def __init__(self):\n",
    "        super(SimpleCNN, self).__init__()\n",
    "        self.conv1 = torch.nn.Conv2d(3, 16, kernel_size=3, stride=1, padding=1)\n",
    "        self.pool = torch.nn.MaxPool2d(kernel_size=2, stride=2, padding=0)\n",
    "        self.conv2 = torch.nn.Conv2d(16, 32, kernel_size=3, stride=1, padding=1)\n",
    "        self.fc1 = torch.nn.Linear(32 * 8 * 8, 256)\n",
    "        self.fc2 = torch.nn.Linear(256, 10)\n",
    "\n",
    "    def forward(self, x):\n",
    "        x = self.pool(torch.relu(self.conv1(x)))\n",
    "        x = self.pool(torch.relu(self.conv2(x)))\n",
    "        x = x.view(-1, 32 * 8 * 8)\n",
    "        x = torch.relu(self.fc1(x))\n",
    "        x = self.fc2(x)\n",
    "        return x"
   ]
  },
  {
   "cell_type": "code",
   "execution_count": 4,
   "id": "4c59df40",
   "metadata": {},
   "outputs": [
    {
     "name": "stdout",
     "output_type": "stream",
     "text": [
      "Files already downloaded and verified\n",
      "Files already downloaded and verified\n"
     ]
    }
   ],
   "source": [
    "#CIFAR-10\n",
    "transform = transforms.Compose([transforms.ToTensor(), transforms.Normalize((0.5, 0.5, 0.5), (0.5, 0.5, 0.5))])\n",
    "\n",
    "train_dataset = torchvision.datasets.CIFAR10(root='./shareddata', train=True, download=True, transform=transform)\n",
    "test_dataset = torchvision.datasets.CIFAR10(root='./shareddata', train=False, download=True, transform=transform)\n",
    "\n",
    "batch_size = 32\n",
    "\n",
    "train_dataloader = DataLoader(train_dataset, batch_size=batch_size, shuffle=True)\n",
    "test_dataloader = DataLoader(test_dataset, batch_size=batch_size, shuffle=False)"
   ]
  },
  {
   "cell_type": "code",
   "execution_count": 4,
   "id": "5efb55e6",
   "metadata": {},
   "outputs": [
    {
     "name": "stdout",
     "output_type": "stream",
     "text": [
      "Files already downloaded and verified\n",
      "Files already downloaded and verified\n"
     ]
    }
   ],
   "source": [
    "# transform = transforms.Compose([transforms.ToTensor(), transforms.Normalize((0.5, 0.5, 0.5), (0.5, 0.5, 0.5))])\n",
    "\n",
    "# train_dataset = torchvision.datasets.CIFAR100(root='./shareddata', train=True, download=True, transform=transform)\n",
    "# test_dataset = torchvision.datasets.CIFAR100(root='./shareddata', train=False, download=True, transform=transform)\n",
    "\n",
    "# batch_size =32\n",
    "\n",
    "# train_dataloader = DataLoader(train_dataset, batch_size=32, shuffle=True)\n",
    "# test_dataloader = DataLoader(test_dataset, batch_size=32, shuffle=False)"
   ]
  },
  {
   "cell_type": "code",
   "execution_count": 5,
   "id": "776e3fb3",
   "metadata": {},
   "outputs": [],
   "source": [
    "# transform = transforms.Compose([transforms.ToTensor(), transforms.Normalize((0.5, 0.5, 0.5), (0.5, 0.5, 0.5))])\n",
    "\n",
    "# train_dataset = torchvision.datasets.Food101(root='./shareddata', split='train', download=True, transform=transform)\n",
    "# test_dataset = torchvision.datasets.Food101(root='/shareddata', split='test',download=True, transform=transform)\n",
    "\n",
    "# batch_size =32\n",
    "\n",
    "# train_dataloader = DataLoader(train_dataset, batch_size=32, shuffle=True)\n",
    "# test_dataloader = DataLoader(test_dataset, batch_size=32, shuffle=False)"
   ]
  },
  {
   "cell_type": "code",
   "execution_count": null,
   "id": "a8d29886",
   "metadata": {},
   "outputs": [],
   "source": []
  },
  {
   "cell_type": "code",
   "execution_count": 5,
   "id": "406f33b8",
   "metadata": {},
   "outputs": [],
   "source": [
    "model = SimpleCNN()\n",
    "model.to(device)\n",
    "criterion = nn.CrossEntropyLoss()\n",
    "optimizer = optim.SGD(model.parameters(), lr=0.001, momentum=0.9)\n",
    "\n",
    "num_epochs = 20\n",
    "\n",
    "for epoch in range(num_epochs):\n",
    "    model.train()\n",
    "    for inputs, labels in train_dataloader:\n",
    "        inputs, labels = inputs.to(device), labels.to(device)\n",
    "        optimizer.zero_grad()\n",
    "        outputs = model(inputs)\n",
    "        loss = criterion(outputs, labels)\n",
    "        loss.backward()\n",
    "        optimizer.step()"
   ]
  },
  {
   "cell_type": "code",
   "execution_count": 6,
   "id": "6cde2010",
   "metadata": {},
   "outputs": [],
   "source": [
    "model.eval()\n",
    "score_functions = [THR(score_type='softmax'), APS(), SAPS(weight=0.3), RAPS(penalty=0.5)]\n",
    "predictors = [SplitPredictor, ClusterPredictor, ClassWisePredictor]  \n",
    "score_functions_names = ['THR', 'APS', 'SAPS', 'RAPS']\n",
    "predictors_names = ['SplitPredictor', 'ClusterPredictor', 'ClassWisePredictor']  \n",
    "cal_dataloader=DataLoader(test_dataset, batch_size=batch_size, shuffle=False)"
   ]
  },
  {
   "cell_type": "code",
   "execution_count": 7,
   "id": "6c260fb1",
   "metadata": {},
   "outputs": [
    {
     "name": "stdout",
     "output_type": "stream",
     "text": [
      "{'Coverage_rate': 0.9, 'Average_size': 2.0892}\n",
      "{'Coverage_rate': 0.8991, 'Average_size': 2.2143}\n",
      "{'Coverage_rate': 0.899, 'Average_size': 2.3209}\n",
      "{'Coverage_rate': 0.8992, 'Average_size': 2.3097}\n",
      "{'Coverage_rate': 0.8992, 'Average_size': 2.0812}\n",
      "{'Coverage_rate': 0.9002, 'Average_size': 2.2456}\n",
      "{'Coverage_rate': 0.9006, 'Average_size': 2.3547}\n",
      "{'Coverage_rate': 0.902, 'Average_size': 2.333}\n",
      "{'Coverage_rate': 0.9, 'Average_size': 2.1063}\n",
      "{'Coverage_rate': 0.9018, 'Average_size': 2.2797}\n",
      "{'Coverage_rate': 0.8999, 'Average_size': 2.3497}\n",
      "{'Coverage_rate': 0.9024, 'Average_size': 2.339}\n"
     ]
    }
   ],
   "source": [
    "converge_list = [[0, 0, 0, 0], [0, 0, 0, 0], [0, 0, 0, 0]]\n",
    "size_list=[[0, 0, 0, 0], [0, 0, 0, 0], [0, 0, 0, 0]]\n",
    "for i in range(3):\n",
    "    for j in range(4):\n",
    "        predictor = predictors[i](score_function=score_functions[j], model=model)\n",
    "\n",
    "        # Calibrating the predictor with significance level as 0.1\n",
    "        predictor.calibrate(cal_dataloader, alpha=0.1)\n",
    "        result_dict = predictor.evaluate(test_dataloader)\n",
    "        converge_list[i][j]=result_dict[\"Coverage_rate\"]\n",
    "        size_list[i][j]=result_dict[\"Average_size\"]\n",
    "        print(result_dict)\n",
    "converge_array = np.array(converge_list)\n",
    "size_array=np.array(size_list)"
   ]
  },
  {
   "cell_type": "code",
   "execution_count": 8,
   "id": "9779f34f",
   "metadata": {},
   "outputs": [
    {
     "data": {
      "image/png": "[encoded data removed]",
      "text/plain": [
       "<Figure size 640x480 with 1 Axes>"
      ]
     },
     "metadata": {},
     "output_type": "display_data"
    }
   ],
   "source": [
    "import matplotlib.pyplot as plt\n",
    "import numpy as np\n",
    "\n",
    "\n",
    "score_functions_names = ['THR', 'APS', 'SAPS', 'RAPS']\n",
    "predictors_names = ['SplitPredictor', 'ClusterPredictor', 'ClassWisePredictor']\n",
    "\n",
    "\n",
    "# 绘制柱状图\n",
    "bar_width = 0.2\n",
    "index = np.arange(len(predictors_names))\n",
    "\n",
    "fig, ax = plt.subplots()\n",
    "\n",
    "for i, score_function in enumerate(score_functions_names):\n",
    "    ax.bar(index + i * bar_width, converge_array[:, i], bar_width, label=score_function)\n",
    "\n",
    "ax.set_xlabel('Predictors')\n",
    "ax.set_ylabel('Converge rate')\n",
    "ax.set_title('Bar Chart of Predictors and Score Functions')\n",
    "ax.set_xticks(index + bar_width * (len(score_functions_names) - 1) / 2)\n",
    "ax.set_xticklabels(predictors_names)\n",
    "ax.legend()\n",
    "plt.show()"
   ]
  },
  {
   "cell_type": "code",
   "execution_count": 9,
   "id": "c27dc110",
   "metadata": {},
   "outputs": [
    {
     "data": {
      "image/png": "[encoded data removed]",
      "text/plain": [
       "<Figure size 640x480 with 1 Axes>"
      ]
     },
     "metadata": {},
     "output_type": "display_data"
    }
   ],
   "source": [
    "#plot2\n",
    "score_functions_names = ['THR', 'APS', 'SAPS', 'RAPS']\n",
    "predictors_names = ['SplitPredictor', 'ClusterPredictor', 'ClassWisePredictor']\n",
    "\n",
    "\n",
    "# 绘制柱状图\n",
    "bar_width = 0.2\n",
    "index = np.arange(len(predictors_names))\n",
    "\n",
    "fig, ax = plt.subplots()\n",
    "\n",
    "for i, score_function in enumerate(score_functions_names):\n",
    "    ax.bar(index + i * bar_width, size_array[:, i], bar_width, label=score_function)\n",
    "\n",
    "ax.set_xlabel('Predictors')\n",
    "ax.set_ylabel('Average size')\n",
    "ax.set_title('Bar Chart of Predictors and Score Functions')\n",
    "ax.set_xticks(index + bar_width * (len(score_functions_names) - 1) / 2)\n",
    "ax.set_xticklabels(predictors_names)\n",
    "ax.legend()\n",
    "plt.show()"
   ]
  },
  {
   "cell_type": "code",
   "execution_count": null,
   "id": "de4fd327",
   "metadata": {},
   "outputs": [],
   "source": []
  }
 ],
 "metadata": {
  "kernelspec": {
   "display_name": "Python 3 (ipykernel)",
   "language": "python",
   "name": "python3"
  },
  "language_info": {
   "codemirror_mode": {
    "name": "ipython",
    "version": 3
   },
   "file_extension": ".py",
   "mimetype": "text/x-python",
   "name": "python",
   "nbconvert_exporter": "python",
   "pygments_lexer": "ipython3",
   "version": "3.10.12"
  }
 },
 "nbformat": 4,
 "nbformat_minor": 5
}
